{
 "metadata": {
  "kernelspec": {
   "language": "python",
   "display_name": "Python 3",
   "name": "python3"
  },
  "language_info": {
   "name": "python",
   "version": "3.7.12",
   "mimetype": "text/x-python",
   "codemirror_mode": {
    "name": "ipython",
    "version": 3
   },
   "pygments_lexer": "ipython3",
   "nbconvert_exporter": "python",
   "file_extension": ".py"
  }
 },
 "nbformat_minor": 4,
 "nbformat": 4,
 "cells": [
  {
   "cell_type": "markdown",
   "source": [
    "# Training and inference of CatBoost stacker for IDAO-22\n",
    "Team: NESCafe Gold 3in1\n",
    "\n",
    "**ALL THE TRAINING AND INFERENCE WAS ON Kaggle CPUs**\n",
    "\n",
    "First, we'll define features that will be used by our stacking algorithm:"
   ],
   "metadata": {}
  },
  {
   "cell_type": "code",
   "source": "super_good_features = ['megnet_defects', 'graphs_pagerank_min', 'graphs_adamic_adar_max',\n       'no_defects_adfa_81', 'defects_mean_chg_334',\n       'defects_mean_chg_194', 'defects_therm_cond_divi_first_ion_en',\n       'no_defects_mean_chg_83', 'no_defects_nn_43',\n       'defects_mean_chg_346', 'defects_mean_chg_178',\n       'no_defects_ddf_40', 'defects_hfus_add_X', 'defects_mean_chg_327',\n       'graphs_num_edges', 'defects_X_subs_bp',\n       'no_defects_first_ion_en_subs_therm_cond', 'graphs_pagerank_max',\n       'defects_mean_chg_343', 'no_defects_nn_94', 'defects_nsunfill',\n       'no_defects_voro_coord_divi_bp', 'no_defects_nn_54',\n       'defects_mean_chg_205', 'graphs_max_formula_band_gap',\n       'no_defects_adfb_81', 'no_defects_adfb_134',\n       'graphs_distance_mean', 'no_defects_mean_chg_314',\n       'no_defects_nn_30', 'defects_atom_mass_divi_atom_rad',\n       'no_defects_rdf_23', 'defects_mean_chg_273',\n       'defects_atom_rad_mult_X', 'defects_mp_divi_hfus',\n       'no_defects_mean_chg_3', 'no_defects_rdf_62',\n       'defects_mean_chg_158', 'no_defects_bp_subs_hfus',\n       'defects_mean_chg_203', 'defects_hfus_mult_mp',\n       'no_defects_cell_2', 'defects_mp_divi_therm_cond',\n       'no_defects_mean_chg_242', 'defects_mean_chg_130',\n       'no_defects_mean_chg_228', 'defects_cell_2', 'graphs_density',\n       'no_defects_adfb_130', 'graphs_global_efficiency',\n       'no_defects_rdf_30', 'no_defects_cell_0', 'no_defects_nn_50',\n       'no_defects_rdf_94', 'defects_mean_chg_369',\n       'defects_mean_chg_322', 'defects_nsvalence',\n       'defects_mean_chg_305', 'defects_mean_chg_230',\n       'no_defects_mp_divi_atom_mass', 'defects_mean_chg_268',\n       'no_defects_ddf_95', 'no_defects_adfb_89',\n       'graphs_degree_assortativity_coefficient',\n       'no_defects_mean_chg_19', 'defects_mean_chg_317',\n       'defects_mean_chg_61', 'defects_mean_chg_318', 'no_defects_ddf_26',\n       'defects_mean_chg_55', 'defects_C-13', 'no_defects_rdf_39',\n       'defects_mean_chg_288', 'graphs_min_formula_band_gap',\n       'defects_first_ion_en_subs_atom_rad', 'defects_rdf_23',\n       'defects_mean_chg_157', 'defects_mp_mult_voro_coord',\n       'graphs_mean_formula_band_gap', 'no_defects_elec_aff_subs_X',\n       'no_defects_mol_vol_subs_atom_rad', 'no_defects_rdf_92',\n       'defects_mean_chg_169', 'defects_nn_23', 'no_defects_mean_chg_271',\n       'defects_mean_chg_367', 'defects_polzbl_subs_voro_coord',\n       'no_defects_X_subs_atom_rad', 'graphs_num_sites',\n       'defects_hfus_subs_bp', 'defects_mean_chg_372', 'no_defects_nn_80',\n       'defects_adfb_110', 'no_defects_nn_23', 'defects_mean_chg_221',\n       'defects_nn_43', 'no_defects_mp_subs_X', 'no_defects_adfa_134',\n       'no_defects_rdf_97', 'no_defects_mean_chg_204',\n       'graphs_pagerank_mean', 'mp_gappbe_alignnn_pred_no_defects',\n       'graphs_adamic_adar_mean', 'no_defects_nn_97',\n       'defects_mean_chg_250', 'defects_polzbl_mult_therm_cond',\n       'defects_rdf_43', 'no_defects_polzbl_subs_X',\n       'defects_mean_chg_341', 'graphs_atomic_numbers_mean',\n       'no_defects_nn_83', 'defects_nn_50', 'defects_mean_chg_163',\n       'defects_voro_coord_divi_polzbl', 'defects_first_ion_en_add_bp',\n       'jv_mbj_bandgap_alignn_pred_defects', 'defects_polzbl_divi_hfus',\n       'no_defects_rdf_67', 'no_defects_mol_vol_add_bp',\n       'jv_mbj_bandgap_alignn_pred_no_defects', 'defects_mean_chg_74',\n       'defects_voro_coord_subs_therm_cond', 'defects_mean_chg_126',\n       'no_defects_mean_chg_73', 'defects_cell_3', 'defects_mean_chg_270',\n       'defects_bp_add_X', 'no_defects_mean_chg_185',\n       'no_defects_mean_chg_188', 'no_defects_nn_62',\n       'no_defects_mean_chg_317', 'defects_mp_subs_polzbl',\n       'no_defects_mol_vol_subs_voro_coord', 'no_defects_mol_vol_mult_X',\n       'defects_mean_chg_14', 'defects_mean_chg_370',\n       'defects_hfus_divi_polzbl', 'no_defects_mean_chg_258',\n       'defects_first_ion_en_mult_X', 'defects_therm_cond_divi_mol_vol',\n       'defects_mp_subs_atom_rad', 'no_defects_rdf_54',\n       'defects_mol_vol_divi_polzbl', 'defects_C-23',\n       'no_defects_mean_chg_119', 'defects_polzbl_divi_bp',\n       'no_defects_adfb_59', 'no_defects_mean_chg_216',\n       'defects_polzbl_subs_bp', 'qm9_gap_alignn_pred_no_defects',\n       'no_defects_mean_chg_374', 'no_defects_mean_chg_264',\n       'no_defects_rdf_43', 'defects_hfus_subs_first_ion_en',\n       'no_defects_C-25', 'defects_mol_vol_mult_therm_cond',\n       'no_defects_adfb_48', 'defects_rdf_80', 'defects_mean_chg_131',\n       'defects_mean_chg_149', 'no_defects_atom_mass',\n       'defects_mean_chg_290', 'no_defects_mean_chg_133',\n       'defects_hfus_mult_X', 'defects_adfa_86', 'defects_mean_chg_281',\n       'defects_C-10', 'defects_nn_39', 'defects_mol_vol_mult_bp',\n       'defects_elec_aff_subs_hfus', 'defects_mp_mult_atom_rad',\n       'defects_atom_rad_add_therm_cond', 'no_defects_mean_chg_89',\n       'defects_mean_chg_153', 'defects_mean_chg_185', 'defects_adfb_115',\n       'defects_elec_aff_mult_therm_cond',\n       'defects_first_ion_en_divi_therm_cond', 'defects_mean_chg_137',\n       'defects_mol_vol_mult_mp', 'defects_mean_chg_142',\n       'defects_mean_chg_144', 'no_defects_bp_add_mp', 'defects_cell_1',\n       'defects_mean_chg_118', 'defects_mean_chg_57',\n       'defects_mean_chg_347', 'defects_nn_54', 'defects_mean_chg_251',\n       'no_defects_bp_subs_therm_cond', 'defects_elec_aff_subs_mp',\n       'defects_adfb_72', 'no_defects_mean_chg_143',\n       'no_defects_mean_chg_58', 'defects_mean_chg_113',\n       'defects_first_ion_en_subs_hfus', 'no_defects_adfb_178',\n       'defects_voro_coord_subs_polzbl', 'defects_bp_subs_elec_aff',\n       'defects_adfa_122', 'defects_mol_vol_add_therm_cond',\n       'defects_adfb_137', 'defects_mean_chg_95',\n       'defects_first_ion_en_subs_voro_coord', 'defects_adfb_76',\n       'defects_polzbl_subs_first_ion_en', 'defects_bp_divi_polzbl',\n       'defects_mean_chg_134', 'defects_adfa_76', 'defects_mol_vol_add_X',\n       'defects_mp_subs_atom_mass', 'defects_bp_subs_atom_mass',\n       'defects_elec_aff_add_atom_rad', 'defects_rdf_54',\n       'defects_adfb_122', 'defects_adfa_137', 'defects_polzbl_add_X',\n       'no_defects_bp_subs_atom_rad', 'defects_mean_chg_223',\n       'defects_mean_chg_241', 'defects_mean_chg_350',\n       'defects_mean_chg_298', 'defects_mean_chg_133',\n       'defects_mean_chg_193', 'defects_mean_chg_287',\n       'defects_mean_chg_101', 'defects_mean_chg_293',\n       'defects_mean_chg_85', 'defects_mean_chg_172',\n       'defects_voro_coord_subs_hfus']",
   "metadata": {
    "execution": {
     "iopub.status.busy": "2022-03-16T22:12:11.089867Z",
     "iopub.execute_input": "2022-03-16T22:12:11.090204Z",
     "iopub.status.idle": "2022-03-16T22:12:11.132365Z",
     "shell.execute_reply.started": "2022-03-16T22:12:11.090119Z",
     "shell.execute_reply": "2022-03-16T22:12:11.131679Z"
    },
    "trusted": true
   },
   "execution_count": 1,
   "outputs": []
  },
  {
   "cell_type": "markdown",
   "source": "# Imports and data reading",
   "metadata": {}
  },
  {
   "cell_type": "code",
   "source": "from functools import reduce\nimport pandas as pd\n\nfrom sklearn.model_selection import train_test_split\nfrom catboost import CatBoostRegressor, Pool",
   "metadata": {
    "execution": {
     "iopub.status.busy": "2022-03-16T22:12:11.133604Z",
     "iopub.execute_input": "2022-03-16T22:12:11.133883Z",
     "iopub.status.idle": "2022-03-16T22:12:12.627994Z",
     "shell.execute_reply.started": "2022-03-16T22:12:11.133851Z",
     "shell.execute_reply": "2022-03-16T22:12:12.626404Z"
    },
    "trusted": true
   },
   "execution_count": 2,
   "outputs": []
  },
  {
   "cell_type": "code",
   "source": "train_defects_cfid = pd.read_csv('../input/idao-22/data/train/defects/cfid/train.csv', index_col=0)\nbandgaps = train_defects_cfid['band_gap']\nbandgaps = pd.concat([bandgaps, pd.Series(train_defects_cfid.index, name='id')], axis=1)\n\ntrain_defects_cfid = train_defects_cfid.set_index('_id')\ntrain_defects_cfid = train_defects_cfid.drop('band_gap', axis=1)\ntrain_defects_cfid = train_defects_cfid.add_prefix('defects_')\n\ntrain_no_defects_graphs = pd.read_csv('../input/idao-22/data/train/no_defects/graph/train.csv', index_col=0)\ntrain_no_defects_graphs = train_no_defects_graphs.drop('band_gap', axis=1)\ntrain_no_defects_graphs = train_no_defects_graphs.add_prefix('graphs_')\n\ntrain_no_defects_cfid = pd.read_csv('../input/idao-22/data/train/no_defects/cfid/train.csv', index_col=0)\ntrain_no_defects_cfid = train_no_defects_cfid.set_index('_id')\ntrain_no_defects_cfid = train_no_defects_cfid.drop('band_gap', axis=1)\ntrain_no_defects_cfid = train_no_defects_cfid.add_prefix('no_defects_')\n\ntrain_defects_cfid.head()",
   "metadata": {
    "execution": {
     "iopub.status.busy": "2022-03-16T22:12:12.629586Z",
     "iopub.execute_input": "2022-03-16T22:12:12.630225Z",
     "iopub.status.idle": "2022-03-16T22:12:15.674216Z",
     "shell.execute_reply.started": "2022-03-16T22:12:12.630170Z",
     "shell.execute_reply": "2022-03-16T22:12:15.673353Z"
    },
    "trusted": true
   },
   "execution_count": 3,
   "outputs": []
  },
  {
   "cell_type": "code",
   "source": "eval_defects_cfid = pd.read_csv('../input/idao-22/data/eval/defects/cfid/eval.csv', index_col=0)\neval_defects_cfid = eval_defects_cfid.add_prefix('defects_')\n\neval_no_defects_graphs = pd.read_csv('../input/idao-22/data/eval/no_defects/graph/eval.csv', index_col=0)\neval_no_defects_graphs = eval_no_defects_graphs.add_prefix('graphs_')\n\neval_no_defects_cfid = pd.read_csv('../input/idao-22/data/eval/no_defects/cfid/eval.csv', index_col=0)\neval_no_defects_cfid = eval_no_defects_cfid.add_prefix('no_defects_')\n\neval_no_defects_cfid.head()",
   "metadata": {
    "execution": {
     "iopub.status.busy": "2022-03-16T22:12:15.675376Z",
     "iopub.execute_input": "2022-03-16T22:12:15.675590Z",
     "iopub.status.idle": "2022-03-16T22:12:18.339563Z",
     "shell.execute_reply.started": "2022-03-16T22:12:15.675564Z",
     "shell.execute_reply": "2022-03-16T22:12:18.338482Z"
    },
    "trusted": true
   },
   "execution_count": 4,
   "outputs": []
  },
  {
   "cell_type": "markdown",
   "source": "Let's merge all the datasets",
   "metadata": {}
  },
  {
   "cell_type": "code",
   "source": "train_dataframe = reduce(lambda a, x: a.merge(x, on='_id'), [train_defects_cfid, train_no_defects_graphs, train_no_defects_cfid])\neval_dataframe = reduce(lambda a, x: a.merge(x, left_index=True, right_index=True), [eval_defects_cfid, eval_no_defects_graphs, eval_no_defects_cfid])",
   "metadata": {
    "execution": {
     "iopub.status.busy": "2022-03-16T22:12:18.342130Z",
     "iopub.execute_input": "2022-03-16T22:12:18.343045Z",
     "iopub.status.idle": "2022-03-16T22:12:18.502781Z",
     "shell.execute_reply.started": "2022-03-16T22:12:18.342992Z",
     "shell.execute_reply": "2022-03-16T22:12:18.502013Z"
    },
    "trusted": true
   },
   "execution_count": 5,
   "outputs": []
  },
  {
   "cell_type": "markdown",
   "source": "ALIGNN and MEGNet predictions reading",
   "metadata": {}
  },
  {
   "cell_type": "code",
   "source": "eval_preds = pd.read_csv('../input/idao-22/predictions/eval_predictions.csv', index_col=0)\ntrain_preds = pd.read_csv('../input/idao-22/predictions/train_predictions.csv', index_col=0).rename({'predictions': 'megnet_defects'}, axis=1)\n\n# Heal columns format\neval_preds.columns = eval_preds.columns.str.replace('_eval', '')\ntrain_preds.columns = train_preds.columns.str.replace('_train', '')\n\ntrain_dataframe = train_dataframe.merge(train_preds, right_index=True, left_index=True)\neval_dataframe = eval_dataframe.merge(eval_preds, right_index=True, left_index=True)",
   "metadata": {
    "execution": {
     "iopub.status.busy": "2022-03-16T22:12:18.546157Z",
     "iopub.execute_input": "2022-03-16T22:12:18.546534Z",
     "iopub.status.idle": "2022-03-16T22:12:18.601597Z",
     "shell.execute_reply.started": "2022-03-16T22:12:18.546489Z",
     "shell.execute_reply": "2022-03-16T22:12:18.600825Z"
    },
    "trusted": true
   },
   "execution_count": 7,
   "outputs": []
  },
  {
   "cell_type": "markdown",
   "source": "# Train-test splitting and pools creation",
   "metadata": {}
  },
  {
   "cell_type": "code",
   "source": "X_train, X_eval, y_train, y_eval = train_test_split(train_dataframe, bandgaps['band_gap'], test_size=0.1, random_state=42)\n\ntrain_pool = Pool(\n    data=X_train[super_good_features],\n    label=y_train,\n    has_header=True,\n)\neval_pool = Pool(\n    data=X_eval[super_good_features],\n    label=y_eval,\n    has_header=True,\n)",
   "metadata": {
    "execution": {
     "iopub.status.busy": "2022-03-16T22:16:35.311967Z",
     "iopub.execute_input": "2022-03-16T22:16:35.312279Z",
     "iopub.status.idle": "2022-03-16T22:16:35.342382Z",
     "shell.execute_reply.started": "2022-03-16T22:16:35.312245Z",
     "shell.execute_reply": "2022-03-16T22:16:35.341320Z"
    },
    "trusted": true
   },
   "execution_count": 26,
   "outputs": []
  },
  {
   "cell_type": "markdown",
   "source": "# Model training",
   "metadata": {}
  },
  {
   "cell_type": "code",
   "source": "model = CatBoostRegressor(custom_metric='MAE', iterations=1000, depth=6, random_seed=42)\n\nmodel.fit(train_pool, eval_set=eval_pool, plot=True)",
   "metadata": {
    "scrolled": true,
    "execution": {
     "iopub.status.busy": "2022-03-16T22:16:38.853245Z",
     "iopub.execute_input": "2022-03-16T22:16:38.853838Z",
     "iopub.status.idle": "2022-03-16T22:16:43.174028Z",
     "shell.execute_reply.started": "2022-03-16T22:16:38.853789Z",
     "shell.execute_reply": "2022-03-16T22:16:43.173151Z"
    },
    "trusted": true
   },
   "execution_count": 28,
   "outputs": []
  },
  {
   "cell_type": "markdown",
   "source": "# Predicting for LBs",
   "metadata": {}
  },
  {
   "cell_type": "code",
   "source": "test_pool = Pool(\n    data=eval_dataframe[super_good_features],\n    has_header=True,\n)\n\npreds = model.predict(test_pool)\n\nresult = eval_dataframe.copy()\nresult['predictions'] = preds\nresult = result.reset_index().rename({'index': 'id'}, axis=1)\nresult = result[['id', 'predictions']]\nresult.to_csv('boosting_answer.csv', index=False)",
   "metadata": {
    "execution": {
     "iopub.status.busy": "2022-03-16T22:16:47.634533Z",
     "iopub.execute_input": "2022-03-16T22:16:47.634819Z",
     "iopub.status.idle": "2022-03-16T22:16:47.807366Z",
     "shell.execute_reply.started": "2022-03-16T22:16:47.634790Z",
     "shell.execute_reply": "2022-03-16T22:16:47.806484Z"
    },
    "trusted": true
   },
   "execution_count": 32,
   "outputs": []
  },
  {
   "cell_type": "markdown",
   "source": "# Feature selection\nWe'll select features using CatBoost's procedure and calculating 'LossFunctionChange' Feature Importance.",
   "metadata": {}
  },
  {
   "cell_type": "code",
   "source": "features = model.select_features(\n    train_pool,\n    eval_set=eval_pool,\n    features_for_select=range(len(train_pool.get_feature_names())),\n    num_features_to_select=500,\n    steps=5,\n#     train_final_model=False,\n)",
   "metadata": {
    "scrolled": true,
    "execution": {
     "iopub.status.busy": "2022-03-14T19:38:26.409104Z",
     "iopub.execute_input": "2022-03-14T19:38:26.409394Z",
     "iopub.status.idle": "2022-03-14T19:41:24.137608Z",
     "shell.execute_reply.started": "2022-03-14T19:38:26.409367Z",
     "shell.execute_reply": "2022-03-14T19:41:24.136605Z"
    },
    "trusted": true
   },
   "execution_count": null,
   "outputs": []
  },
  {
   "cell_type": "code",
   "source": "good_features = features['selected_features_names']\ngood_features",
   "metadata": {
    "execution": {
     "iopub.status.busy": "2022-03-14T19:41:43.61825Z",
     "iopub.execute_input": "2022-03-14T19:41:43.618581Z",
     "iopub.status.idle": "2022-03-14T19:41:43.622354Z",
     "shell.execute_reply.started": "2022-03-14T19:41:43.618551Z",
     "shell.execute_reply": "2022-03-14T19:41:43.621492Z"
    },
    "trusted": true
   },
   "execution_count": null,
   "outputs": []
  },
  {
   "cell_type": "code",
   "source": "importances = model.get_feature_importance(eval_pool, 'LossFunctionChange', prettified=True)",
   "metadata": {
    "execution": {
     "iopub.status.busy": "2022-03-16T22:16:13.520004Z",
     "iopub.execute_input": "2022-03-16T22:16:13.520312Z",
     "iopub.status.idle": "2022-03-16T22:16:13.941598Z",
     "shell.execute_reply.started": "2022-03-16T22:16:13.520279Z",
     "shell.execute_reply": "2022-03-16T22:16:13.940584Z"
    },
    "trusted": true
   },
   "execution_count": 22,
   "outputs": []
  },
  {
   "cell_type": "code",
   "source": "super_good_features = importances[importances['Importances'] > 0]['Feature Id'].values\nsuper_good_features",
   "metadata": {
    "execution": {
     "iopub.status.busy": "2022-03-16T22:16:15.841389Z",
     "iopub.execute_input": "2022-03-16T22:16:15.841673Z",
     "iopub.status.idle": "2022-03-16T22:16:15.848015Z",
     "shell.execute_reply.started": "2022-03-16T22:16:15.841646Z",
     "shell.execute_reply": "2022-03-16T22:16:15.846814Z"
    },
    "trusted": true
   },
   "execution_count": 23,
   "outputs": []
  }
 ]
}
