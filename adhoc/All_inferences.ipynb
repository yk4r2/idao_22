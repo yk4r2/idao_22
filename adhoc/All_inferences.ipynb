{
 "cells": [
  {
   "cell_type": "markdown",
   "metadata": {
    "collapsed": true,
    "pycharm": {
     "name": "#%% md\n"
    }
   },
   "source": [
    "# Inference of all algorithms for IDAO-22 Track 1\n",
    "Team: NESCafe Gold 3in1"
   ]
  },
  {
   "cell_type": "markdown",
   "source": [
    "## ALIGNNs"
   ],
   "metadata": {
    "collapsed": false
   }
  },
  {
   "cell_type": "code",
   "execution_count": null,
   "outputs": [],
   "source": [
    "from functools import reduce\n",
    "\n",
    "from alignn.models.alignn import ALIGNN\n",
    "from jarvis.core.atoms import Atoms\n",
    "from glob import glob\n",
    "import torch\n",
    "from tqdm.notebook import tqdm\n",
    "import pandas as pd"
   ],
   "metadata": {
    "collapsed": false,
    "pycharm": {
     "name": "#%%\n"
    }
   }
  },
  {
   "cell_type": "code",
   "execution_count": null,
   "outputs": [],
   "source": [
    "atoms_array = []\n",
    "ids_array = []\n",
    "for i in tqdm(glob(\"../data/eval/defects/jarvis/*.vasp\")):\n",
    "    atoms = Atoms.from_poscar(i)\n",
    "    id = i.split('/')[-1].split('.vasp')[0]\n",
    "    atoms_array.append(atoms)\n",
    "    ids_array.append(id)"
   ],
   "metadata": {
    "collapsed": false,
    "pycharm": {
     "name": "#%%\n"
    }
   }
  },
  {
   "cell_type": "code",
   "execution_count": null,
   "outputs": [],
   "source": [
    "device = torch.device('cuda')\n",
    "\n",
    "qm9_gap_alignn = ALIGNN()\n",
    "qm9_gap_alignn.load_state_dict(torch.load('../models/ALIGNN/defects/qm9_gap_alignn/checkpoint_60.pt')[\"model\"])\n",
    "qm9_gap_alignn.to(device)\n",
    "qm9_gap_alignn.eval()\n",
    "\n",
    "mp_gappbe_alignnn = ALIGNN()\n",
    "mp_gappbe_alignnn.load_state_dict(torch.load('../models/ALIGNN/defects/mp_gappbe_alignnn/checkpoint_95.pt')[\"model\"])\n",
    "mp_gappbe_alignnn.to(device)\n",
    "mp_gappbe_alignnn.eval()\n",
    "\n",
    "jv_optb88vdw_bandgap_alignn = ALIGNN()\n",
    "jv_optb88vdw_bandgap_alignn.load_state_dict(torch.load('../models/ALIGNN/defects/jv_optb88vdw_bandgap_alignn/checkpoint_52.pt')[\"model\"])\n",
    "jv_optb88vdw_bandgap_alignn.to(device)\n",
    "jv_optb88vdw_bandgap_alignn.eval()\n",
    "\n",
    "jv_mbj_bandgap_alignn = ALIGNN()\n",
    "jv_mbj_bandgap_alignn.load_state_dict(torch.load('../models/ALIGNN/defects/jv_mbj_bandgap_alignn/checkpoint_70.pt')[\"model\"])\n",
    "jv_mbj_bandgap_alignn.to(device)\n",
    "jv_mbj_bandgap_alignn.eval()"
   ],
   "metadata": {
    "collapsed": false,
    "pycharm": {
     "name": "#%%\n"
    }
   }
  },
  {
   "cell_type": "code",
   "execution_count": null,
   "outputs": [],
   "source": [
    "%%time\n",
    "predict(atoms_array=atoms_array,\n",
    "        idx_array=ids_array,\n",
    "        model=qm9_gap_alignn,\n",
    "        filename='../predictions/qm9_gap_alignn_pred_eval_no_defects.json',\n",
    "        )\n",
    "\n",
    "predict(atoms_array=atoms_array,\n",
    "        idx_array=ids_array,\n",
    "        model=mp_gappbe_alignnn,\n",
    "        filename='../predictions/mp_gappbe_alignnn_pred_eval_no_defects.json',\n",
    "        )\n",
    "\n",
    "predict(atoms_array=atoms_array,\n",
    "        idx_array=ids_array,\n",
    "        model=jv_optb88vdw_bandgap_alignn,\n",
    "        filename='../predictions/jv_optb88vdw_bandgap_alignn_pred_eval_no_defects.json',\n",
    "        )\n",
    "\n",
    "predict(atoms_array=atoms_array,\n",
    "        idx_array=ids_array,\n",
    "        model=jv_mbj_bandgap_alignn,\n",
    "        filename='../predictions/jv_mbj_bandgap_alignn_pred_eval_no_defects.json',\n",
    "        )"
   ],
   "metadata": {
    "collapsed": false,
    "pycharm": {
     "name": "#%%\n"
    }
   }
  },
  {
   "cell_type": "code",
   "execution_count": null,
   "outputs": [],
   "source": [
    "device = torch.device('cuda')\n",
    "\n",
    "qm9_gap_alignn = ALIGNN()\n",
    "qm9_gap_alignn.load_state_dict(torch.load('../models/ALIGNN/no_defects/qm9_gap_alignn/checkpoint_60.pt')[\"model\"])\n",
    "qm9_gap_alignn.to(device)\n",
    "qm9_gap_alignn.eval()\n",
    "\n",
    "mp_gappbe_alignnn = ALIGNN()\n",
    "mp_gappbe_alignnn.load_state_dict(torch.load('../models/ALIGNN/no_defects/mp_gappbe_alignnn/checkpoint_95.pt')[\"model\"])\n",
    "mp_gappbe_alignnn.to(device)\n",
    "mp_gappbe_alignnn.eval()\n",
    "\n",
    "jv_optb88vdw_bandgap_alignn = ALIGNN()\n",
    "jv_optb88vdw_bandgap_alignn.load_state_dict(torch.load('../models/ALIGNN/no_defects/jv_optb88vdw_bandgap_alignn/checkpoint_52.pt')[\"model\"])\n",
    "jv_optb88vdw_bandgap_alignn.to(device)\n",
    "jv_optb88vdw_bandgap_alignn.eval()\n",
    "\n",
    "jv_mbj_bandgap_alignn = ALIGNN()\n",
    "jv_mbj_bandgap_alignn.load_state_dict(torch.load('../models/ALIGNN/no_defects/jv_mbj_bandgap_alignn/checkpoint_70.pt')[\"model\"])\n",
    "jv_mbj_bandgap_alignn.to(device)\n",
    "jv_mbj_bandgap_alignn.eval()"
   ],
   "metadata": {
    "collapsed": false,
    "pycharm": {
     "name": "#%%\n"
    }
   }
  },
  {
   "cell_type": "code",
   "execution_count": null,
   "outputs": [],
   "source": [
    "preds_train = []\n",
    "for path in glob('../predictions/*.csv'):\n",
    "    pred_col = path.split('/')[-1].split('.csv')[0]\n",
    "    prediction = pd.read_csv(path, index_col=0)\n",
    "    prediction = prediction.set_index('id').rename({'pred': pred_col}, axis=1)\n",
    "    preds_train.append(prediction)\n",
    "\n",
    "preds_train = reduce(lambda a, x: a.merge(x, left_index=True, right_index=True), preds_train)"
   ],
   "metadata": {
    "collapsed": false,
    "pycharm": {
     "name": "#%%\n"
    }
   }
  },
  {
   "cell_type": "code",
   "execution_count": null,
   "outputs": [],
   "source": [
    "!rm -rf ../predictions/*.csv\n",
    "!rm -rf ../predictions/*.json"
   ],
   "metadata": {
    "collapsed": false,
    "pycharm": {
     "name": "#%%\n"
    }
   }
  },
  {
   "cell_type": "markdown",
   "source": [
    "## MEGNet"
   ],
   "metadata": {
    "collapsed": false
   }
  },
  {
   "cell_type": "code",
   "execution_count": null,
   "outputs": [],
   "source": [
    "from megnet.models import MEGNetModel\n",
    "from scripts.utils import structures_to_df, read_json_structures\n",
    "from pathlib import Path\n",
    "\n",
    "\n",
    "_, df_private = structures_to_df()\n",
    "df_private = df_private.merge(read_json_structures(Path('../data/eval/defects/pymatgen')).rename({'structure': 'diff'}, axis=0), on=['_id'])\n",
    "\n",
    "model = MEGNetModel()\n",
    "model.load_weights('../models/megnet/defects/val_mae_00481_0.010377.hdf5')\n",
    "preds_train['megnet_defects'] = model.predict_structures(df_private['structure_y'])"
   ],
   "metadata": {
    "collapsed": false,
    "pycharm": {
     "name": "#%%\n"
    }
   }
  },
  {
   "cell_type": "markdown",
   "source": [
    "## CatBoost"
   ],
   "metadata": {
    "collapsed": false,
    "pycharm": {
     "name": "#%% md\n"
    }
   }
  },
  {
   "cell_type": "code",
   "execution_count": null,
   "outputs": [],
   "source": [
    "super_good_features = ['megnet_defects', 'graphs_pagerank_min', 'graphs_adamic_adar_max',\n",
    "                       'no_defects_adfa_81', 'defects_mean_chg_334',\n",
    "                       'defects_mean_chg_194', 'defects_therm_cond_divi_first_ion_en',\n",
    "                       'no_defects_mean_chg_83', 'no_defects_nn_43',\n",
    "                       'defects_mean_chg_346', 'defects_mean_chg_178',\n",
    "                       'no_defects_ddf_40', 'defects_hfus_add_X', 'defects_mean_chg_327',\n",
    "                       'graphs_num_edges', 'defects_X_subs_bp',\n",
    "                       'no_defects_first_ion_en_subs_therm_cond', 'graphs_pagerank_max',\n",
    "                       'defects_mean_chg_343', 'no_defects_nn_94', 'defects_nsunfill',\n",
    "                       'no_defects_voro_coord_divi_bp', 'no_defects_nn_54',\n",
    "                       'defects_mean_chg_205', 'graphs_max_formula_band_gap',\n",
    "                       'no_defects_adfb_81', 'no_defects_adfb_134',\n",
    "                       'graphs_distance_mean', 'no_defects_mean_chg_314',\n",
    "                       'no_defects_nn_30', 'defects_atom_mass_divi_atom_rad',\n",
    "                       'no_defects_rdf_23', 'defects_mean_chg_273',\n",
    "                       'defects_atom_rad_mult_X', 'defects_mp_divi_hfus',\n",
    "                       'no_defects_mean_chg_3', 'no_defects_rdf_62',\n",
    "                       'defects_mean_chg_158', 'no_defects_bp_subs_hfus',\n",
    "                       'defects_mean_chg_203', 'defects_hfus_mult_mp',\n",
    "                       'no_defects_cell_2', 'defects_mp_divi_therm_cond',\n",
    "                       'no_defects_mean_chg_242', 'defects_mean_chg_130',\n",
    "                       'no_defects_mean_chg_228', 'defects_cell_2', 'graphs_density',\n",
    "                       'no_defects_adfb_130', 'graphs_global_efficiency',\n",
    "                       'no_defects_rdf_30', 'no_defects_cell_0', 'no_defects_nn_50',\n",
    "                       'no_defects_rdf_94', 'defects_mean_chg_369',\n",
    "                       'defects_mean_chg_322', 'defects_nsvalence',\n",
    "                       'defects_mean_chg_305', 'defects_mean_chg_230',\n",
    "                       'no_defects_mp_divi_atom_mass', 'defects_mean_chg_268',\n",
    "                       'no_defects_ddf_95', 'no_defects_adfb_89',\n",
    "                       'graphs_degree_assortativity_coefficient',\n",
    "                       'no_defects_mean_chg_19', 'defects_mean_chg_317',\n",
    "                       'defects_mean_chg_61', 'defects_mean_chg_318', 'no_defects_ddf_26',\n",
    "                       'defects_mean_chg_55', 'defects_C-13', 'no_defects_rdf_39',\n",
    "                       'defects_mean_chg_288', 'graphs_min_formula_band_gap',\n",
    "                       'defects_first_ion_en_subs_atom_rad', 'defects_rdf_23',\n",
    "                       'defects_mean_chg_157', 'defects_mp_mult_voro_coord',\n",
    "                       'graphs_mean_formula_band_gap', 'no_defects_elec_aff_subs_X',\n",
    "                       'no_defects_mol_vol_subs_atom_rad', 'no_defects_rdf_92',\n",
    "                       'defects_mean_chg_169', 'defects_nn_23', 'no_defects_mean_chg_271',\n",
    "                       'defects_mean_chg_367', 'defects_polzbl_subs_voro_coord',\n",
    "                       'no_defects_X_subs_atom_rad', 'graphs_num_sites',\n",
    "                       'defects_hfus_subs_bp', 'defects_mean_chg_372', 'no_defects_nn_80',\n",
    "                       'defects_adfb_110', 'no_defects_nn_23', 'defects_mean_chg_221',\n",
    "                       'defects_nn_43', 'no_defects_mp_subs_X', 'no_defects_adfa_134',\n",
    "                       'no_defects_rdf_97', 'no_defects_mean_chg_204',\n",
    "                       'graphs_pagerank_mean', 'mp_gappbe_alignnn_pred_no_defects',\n",
    "                       'graphs_adamic_adar_mean', 'no_defects_nn_97',\n",
    "                       'defects_mean_chg_250', 'defects_polzbl_mult_therm_cond',\n",
    "                       'defects_rdf_43', 'no_defects_polzbl_subs_X',\n",
    "                       'defects_mean_chg_341', 'graphs_atomic_numbers_mean',\n",
    "                       'no_defects_nn_83', 'defects_nn_50', 'defects_mean_chg_163',\n",
    "                       'defects_voro_coord_divi_polzbl', 'defects_first_ion_en_add_bp',\n",
    "                       'jv_mbj_bandgap_alignn_pred_defects', 'defects_polzbl_divi_hfus',\n",
    "                       'no_defects_rdf_67', 'no_defects_mol_vol_add_bp',\n",
    "                       'jv_mbj_bandgap_alignn_pred_no_defects', 'defects_mean_chg_74',\n",
    "                       'defects_voro_coord_subs_therm_cond', 'defects_mean_chg_126',\n",
    "                       'no_defects_mean_chg_73', 'defects_cell_3', 'defects_mean_chg_270',\n",
    "                       'defects_bp_add_X', 'no_defects_mean_chg_185',\n",
    "                       'no_defects_mean_chg_188', 'no_defects_nn_62',\n",
    "                       'no_defects_mean_chg_317', 'defects_mp_subs_polzbl',\n",
    "                       'no_defects_mol_vol_subs_voro_coord', 'no_defects_mol_vol_mult_X',\n",
    "                       'defects_mean_chg_14', 'defects_mean_chg_370',\n",
    "                       'defects_hfus_divi_polzbl', 'no_defects_mean_chg_258',\n",
    "                       'defects_first_ion_en_mult_X', 'defects_therm_cond_divi_mol_vol',\n",
    "                       'defects_mp_subs_atom_rad', 'no_defects_rdf_54',\n",
    "                       'defects_mol_vol_divi_polzbl', 'defects_C-23',\n",
    "                       'no_defects_mean_chg_119', 'defects_polzbl_divi_bp',\n",
    "                       'no_defects_adfb_59', 'no_defects_mean_chg_216',\n",
    "                       'defects_polzbl_subs_bp', 'qm9_gap_alignn_pred_no_defects',\n",
    "                       'no_defects_mean_chg_374', 'no_defects_mean_chg_264',\n",
    "                       'no_defects_rdf_43', 'defects_hfus_subs_first_ion_en',\n",
    "                       'no_defects_C-25', 'defects_mol_vol_mult_therm_cond',\n",
    "                       'no_defects_adfb_48', 'defects_rdf_80', 'defects_mean_chg_131',\n",
    "                       'defects_mean_chg_149', 'no_defects_atom_mass',\n",
    "                       'defects_mean_chg_290', 'no_defects_mean_chg_133',\n",
    "                       'defects_hfus_mult_X', 'defects_adfa_86', 'defects_mean_chg_281',\n",
    "                       'defects_C-10', 'defects_nn_39', 'defects_mol_vol_mult_bp',\n",
    "                       'defects_elec_aff_subs_hfus', 'defects_mp_mult_atom_rad',\n",
    "                       'defects_atom_rad_add_therm_cond', 'no_defects_mean_chg_89',\n",
    "                       'defects_mean_chg_153', 'defects_mean_chg_185', 'defects_adfb_115',\n",
    "                       'defects_elec_aff_mult_therm_cond',\n",
    "                       'defects_first_ion_en_divi_therm_cond', 'defects_mean_chg_137',\n",
    "                       'defects_mol_vol_mult_mp', 'defects_mean_chg_142',\n",
    "                       'defects_mean_chg_144', 'no_defects_bp_add_mp', 'defects_cell_1',\n",
    "                       'defects_mean_chg_118', 'defects_mean_chg_57',\n",
    "                       'defects_mean_chg_347', 'defects_nn_54', 'defects_mean_chg_251',\n",
    "                       'no_defects_bp_subs_therm_cond', 'defects_elec_aff_subs_mp',\n",
    "                       'defects_adfb_72', 'no_defects_mean_chg_143',\n",
    "                       'no_defects_mean_chg_58', 'defects_mean_chg_113',\n",
    "                       'defects_first_ion_en_subs_hfus', 'no_defects_adfb_178',\n",
    "                       'defects_voro_coord_subs_polzbl', 'defects_bp_subs_elec_aff',\n",
    "                       'defects_adfa_122', 'defects_mol_vol_add_therm_cond',\n",
    "                       'defects_adfb_137', 'defects_mean_chg_95',\n",
    "                       'defects_first_ion_en_subs_voro_coord', 'defects_adfb_76',\n",
    "                       'defects_polzbl_subs_first_ion_en', 'defects_bp_divi_polzbl',\n",
    "                       'defects_mean_chg_134', 'defects_adfa_76', 'defects_mol_vol_add_X',\n",
    "                       'defects_mp_subs_atom_mass', 'defects_bp_subs_atom_mass',\n",
    "                       'defects_elec_aff_add_atom_rad', 'defects_rdf_54',\n",
    "                       'defects_adfb_122', 'defects_adfa_137', 'defects_polzbl_add_X',\n",
    "                       'no_defects_bp_subs_atom_rad', 'defects_mean_chg_223',\n",
    "                       'defects_mean_chg_241', 'defects_mean_chg_350',\n",
    "                       'defects_mean_chg_298', 'defects_mean_chg_133',\n",
    "                       'defects_mean_chg_193', 'defects_mean_chg_287',\n",
    "                       'defects_mean_chg_101', 'defects_mean_chg_293',\n",
    "                       'defects_mean_chg_85', 'defects_mean_chg_172',\n",
    "                       'defects_voro_coord_subs_hfus']"
   ],
   "metadata": {
    "collapsed": false,
    "pycharm": {
     "name": "#%%\n"
    }
   }
  },
  {
   "cell_type": "code",
   "execution_count": null,
   "outputs": [],
   "source": [
    "from functools import reduce\n",
    "import pandas as pd\n",
    "\n",
    "from catboost import CatBoostRegressor, Pool\n",
    "\n",
    "eval_defects_cfid = pd.read_csv('../input/idao-22/data/eval/defects/cfid/eval.csv', index_col=0)\n",
    "eval_defects_cfid = eval_defects_cfid.add_prefix('defects_')\n",
    "\n",
    "eval_no_defects_graphs = pd.read_csv('../input/idao-22/data/eval/no_defects/graph/eval.csv', index_col=0)\n",
    "eval_no_defects_graphs = eval_no_defects_graphs.add_prefix('graphs_')\n",
    "\n",
    "eval_no_defects_cfid = pd.read_csv('../input/idao-22/data/eval/no_defects/cfid/eval.csv', index_col=0)\n",
    "eval_no_defects_cfid = eval_no_defects_cfid.add_prefix('no_defects_')\n",
    "eval_dataframe = reduce(lambda a, x: a.merge(x, left_index=True, right_index=True), [eval_defects_cfid, eval_no_defects_graphs, eval_no_defects_cfid])\n",
    "\n",
    "eval_preds = pd.read_csv('../input/idao-22/predictions/eval_predictions.csv', index_col=0)\n",
    "\n",
    "# Heal columns format\n",
    "eval_preds.columns = eval_preds.columns.str.replace('_eval', '')\n",
    "eval_dataframe = eval_dataframe.merge(eval_preds, right_index=True, left_index=True)"
   ],
   "metadata": {
    "collapsed": false,
    "pycharm": {
     "name": "#%%\n"
    }
   }
  },
  {
   "cell_type": "code",
   "execution_count": null,
   "outputs": [],
   "source": [
    "model = CatBoostRegressor().load_model('../models/CatBoost/boosting.cbm')\n",
    "\n",
    "test_pool = Pool(\n",
    "    data=eval_dataframe[super_good_features],\n",
    "    has_header=True,\n",
    ")\n",
    "\n",
    "preds = model.predict(test_pool)\n",
    "\n",
    "result = eval_dataframe.copy()\n",
    "result['predictions'] = preds\n",
    "result = result.reset_index().rename({'index': 'id'}, axis=1)\n",
    "result = result[['id', 'predictions']]\n",
    "result.to_csv('../predictions/final_answer.csv', index=False)"
   ],
   "metadata": {
    "collapsed": false,
    "pycharm": {
     "name": "#%%\n"
    }
   }
  },
  {
   "cell_type": "markdown",
   "source": [
    "Yay!"
   ],
   "metadata": {
    "collapsed": false,
    "pycharm": {
     "name": "#%% md\n"
    }
   }
  }
 ],
 "metadata": {
  "kernelspec": {
   "display_name": "Python 3",
   "language": "python",
   "name": "python3"
  },
  "language_info": {
   "codemirror_mode": {
    "name": "ipython",
    "version": 2
   },
   "file_extension": ".py",
   "mimetype": "text/x-python",
   "name": "python",
   "nbconvert_exporter": "python",
   "pygments_lexer": "ipython2",
   "version": "2.7.6"
  }
 },
 "nbformat": 4,
 "nbformat_minor": 0
}
