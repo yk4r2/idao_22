{
 "cells": [
  {
   "cell_type": "markdown",
   "source": [
    "# Training and inference of ALIGNN models for IDAO-22\n",
    "Team: NESCafe Gold 3in1"
   ],
   "metadata": {
    "collapsed": false,
    "pycharm": {
     "name": "#%% md\n"
    }
   }
  },
  {
   "cell_type": "markdown",
   "source": [
    "## Imports and data reading"
   ],
   "metadata": {
    "collapsed": false
   }
  },
  {
   "cell_type": "code",
   "execution_count": null,
   "outputs": [],
   "source": [
    "from pathlib import Path\n",
    "from megnet.models import MEGNetModel\n",
    "from megnet.data.crystal import CrystalGraph\n",
    "import numpy as np\n",
    "import tensorflow as tf\n",
    "\n",
    "from scripts.utils import structures_to_df, read_json_structures"
   ],
   "metadata": {
    "collapsed": false,
    "pycharm": {
     "name": "#%%\n"
    }
   }
  },
  {
   "cell_type": "code",
   "execution_count": 7,
   "metadata": {},
   "outputs": [
    {
     "name": "stderr",
     "output_type": "stream",
     "text": [
      "2967it [00:18, 157.65it/s]\n",
      "2966it [00:19, 151.92it/s]\n",
      "2966it [00:01, 1723.35it/s]\n",
      "2967it [00:01, 1824.46it/s]\n"
     ]
    }
   ],
   "source": [
    "df_public, df_private = structures_to_df()\n",
    "df_public = df_public.merge(read_json_structures(Path('../data/train/defects/pymatgen')).rename({'structure': 'diff'}, axis=1), on=['_id'])\n",
    "df_private = df_private.merge(read_json_structures(Path('../data/eval/defects/pymatgen')).rename({'structure': 'diff'}, axis=0), on=['_id'])"
   ]
  },
  {
   "cell_type": "markdown",
   "source": [
    "## MEGNet training on custom metric"
   ],
   "metadata": {
    "collapsed": false
   }
  },
  {
   "cell_type": "code",
   "execution_count": 115,
   "metadata": {},
   "outputs": [],
   "source": [
    "def energy_within_threshold(prediction, target):\n",
    "    e_thresh = 0.02\n",
    "    error_energy = tf.math.abs(target - prediction)\n",
    "\n",
    "    success = tf.math.count_nonzero(error_energy < e_thresh)\n",
    "    total = tf.size(target)\n",
    "    return success / tf.cast(total, tf.int64)"
   ]
  },
  {
   "cell_type": "code",
   "execution_count": 119,
   "metadata": {},
   "outputs": [
    {
     "name": "stderr",
     "output_type": "stream",
     "text": [
      "/Users/tomatoparetogmail.com/Desktop/Github/idao_22/env/lib/python3.8/site-packages/keras/optimizer_v2/adam.py:105: UserWarning: The `lr` argument is deprecated, use `learning_rate` instead.\n",
      "  super(Adam, self).__init__(name, **kwargs)\n"
     ]
    },
    {
     "name": "stdout",
     "output_type": "stream",
     "text": [
      "Epoch 1/100\n",
      "24/24 [==============================] - 16s 65ms/step - loss: 0.4263 - energy_within_threshold: 0.0234\n",
      "Epoch 2/100\n",
      "24/24 [==============================] - 2s 61ms/step - loss: 0.2277 - energy_within_threshold: 0.0026\n",
      "Epoch 3/100\n",
      "24/24 [==============================] - 2s 65ms/step - loss: 0.0610 - energy_within_threshold: 0.0599\n",
      "Epoch 4/100\n",
      "24/24 [==============================] - 2s 72ms/step - loss: 0.0294 - energy_within_threshold: 0.0596\n",
      "Epoch 5/100\n",
      "24/24 [==============================] - 2s 74ms/step - loss: 0.0195 - energy_within_threshold: 0.0906\n",
      "Epoch 6/100\n",
      "24/24 [==============================] - 2s 72ms/step - loss: 0.0115 - energy_within_threshold: 0.1433\n",
      "Epoch 7/100\n",
      "24/24 [==============================] - 2s 68ms/step - loss: 0.0067 - energy_within_threshold: 0.2351\n",
      "Epoch 8/100\n",
      "24/24 [==============================] - 2s 70ms/step - loss: 0.0055 - energy_within_threshold: 0.3381\n",
      "Epoch 9/100\n",
      "24/24 [==============================] - 2s 68ms/step - loss: 0.0053 - energy_within_threshold: 0.3373\n",
      "Epoch 10/100\n",
      "24/24 [==============================] - 2s 71ms/step - loss: 0.0066 - energy_within_threshold: 0.3288\n",
      "Epoch 11/100\n",
      "24/24 [==============================] - 2s 70ms/step - loss: 0.0055 - energy_within_threshold: 0.3717\n",
      "Epoch 12/100\n",
      "24/24 [==============================] - 2s 70ms/step - loss: 0.0046 - energy_within_threshold: 0.3606\n",
      "Epoch 13/100\n",
      "24/24 [==============================] - 2s 69ms/step - loss: 0.0048 - energy_within_threshold: 0.3462\n",
      "Epoch 14/100\n",
      "24/24 [==============================] - 2s 68ms/step - loss: 0.0042 - energy_within_threshold: 0.4223\n",
      "Epoch 15/100\n",
      "24/24 [==============================] - 2s 71ms/step - loss: 0.0040 - energy_within_threshold: 0.4240\n",
      "Epoch 16/100\n",
      "24/24 [==============================] - 2s 71ms/step - loss: 0.0041 - energy_within_threshold: 0.4058\n",
      "Epoch 17/100\n",
      "24/24 [==============================] - 2s 71ms/step - loss: 0.0041 - energy_within_threshold: 0.3671\n",
      "Epoch 18/100\n",
      "24/24 [==============================] - 2s 72ms/step - loss: 0.0042 - energy_within_threshold: 0.3536\n",
      "Epoch 19/100\n",
      "24/24 [==============================] - 2s 71ms/step - loss: 0.0041 - energy_within_threshold: 0.3687\n",
      "Epoch 20/100\n",
      "24/24 [==============================] - 2s 71ms/step - loss: 0.0044 - energy_within_threshold: 0.3293\n",
      "Epoch 21/100\n",
      "24/24 [==============================] - 2s 73ms/step - loss: 0.0042 - energy_within_threshold: 0.3542\n",
      "Epoch 22/100\n",
      "24/24 [==============================] - 2s 71ms/step - loss: 0.0039 - energy_within_threshold: 0.3899\n",
      "Epoch 23/100\n",
      "24/24 [==============================] - 2s 72ms/step - loss: 0.0037 - energy_within_threshold: 0.3944\n",
      "Epoch 24/100\n",
      "24/24 [==============================] - 2s 73ms/step - loss: 0.0037 - energy_within_threshold: 0.4074\n",
      "Epoch 25/100\n",
      "24/24 [==============================] - 2s 71ms/step - loss: 0.0039 - energy_within_threshold: 0.3949\n",
      "Epoch 26/100\n",
      "24/24 [==============================] - 2s 71ms/step - loss: 0.0037 - energy_within_threshold: 0.4291\n",
      "Epoch 27/100\n",
      "24/24 [==============================] - 2s 72ms/step - loss: 0.0036 - energy_within_threshold: 0.4260\n",
      "Epoch 28/100\n",
      "24/24 [==============================] - 2s 72ms/step - loss: 0.0039 - energy_within_threshold: 0.3843\n",
      "Epoch 29/100\n",
      "24/24 [==============================] - 2s 72ms/step - loss: 0.0038 - energy_within_threshold: 0.3946\n",
      "Epoch 30/100\n",
      "24/24 [==============================] - 2s 72ms/step - loss: 0.0036 - energy_within_threshold: 0.4275\n",
      "Epoch 31/100\n",
      "24/24 [==============================] - 2s 72ms/step - loss: 0.0035 - energy_within_threshold: 0.4496\n",
      "Epoch 32/100\n",
      "24/24 [==============================] - 2s 72ms/step - loss: 0.0035 - energy_within_threshold: 0.4202\n",
      "Epoch 33/100\n",
      "24/24 [==============================] - 2s 76ms/step - loss: 0.0034 - energy_within_threshold: 0.4492\n",
      "Epoch 34/100\n",
      "24/24 [==============================] - 2s 72ms/step - loss: 0.0040 - energy_within_threshold: 0.3894\n",
      "Epoch 35/100\n",
      "24/24 [==============================] - 2s 74ms/step - loss: 0.0043 - energy_within_threshold: 0.3603\n",
      "Epoch 36/100\n",
      "24/24 [==============================] - 2s 75ms/step - loss: 0.0033 - energy_within_threshold: 0.4707\n",
      "Epoch 37/100\n",
      "24/24 [==============================] - 2s 77ms/step - loss: 0.0035 - energy_within_threshold: 0.4473\n",
      "Epoch 38/100\n",
      "24/24 [==============================] - 2s 80ms/step - loss: 0.0037 - energy_within_threshold: 0.3925\n",
      "Epoch 39/100\n",
      "24/24 [==============================] - 2s 79ms/step - loss: 0.0038 - energy_within_threshold: 0.4013\n",
      "Epoch 40/100\n",
      "24/24 [==============================] - 2s 79ms/step - loss: 0.0033 - energy_within_threshold: 0.4611\n",
      "Epoch 41/100\n",
      "24/24 [==============================] - 2s 79ms/step - loss: 0.0032 - energy_within_threshold: 0.4782\n",
      "Epoch 42/100\n",
      "24/24 [==============================] - 2s 78ms/step - loss: 0.0033 - energy_within_threshold: 0.4518\n",
      "Epoch 43/100\n",
      "24/24 [==============================] - 2s 79ms/step - loss: 0.0035 - energy_within_threshold: 0.4543\n",
      "Epoch 44/100\n",
      "24/24 [==============================] - 2s 78ms/step - loss: 0.0032 - energy_within_threshold: 0.4676\n",
      "Epoch 45/100\n",
      "24/24 [==============================] - 2s 78ms/step - loss: 0.0031 - energy_within_threshold: 0.4886\n",
      "Epoch 46/100\n",
      "24/24 [==============================] - 2s 79ms/step - loss: 0.0031 - energy_within_threshold: 0.4856\n",
      "Epoch 47/100\n",
      "24/24 [==============================] - 2s 82ms/step - loss: 0.0031 - energy_within_threshold: 0.4821\n",
      "Epoch 48/100\n",
      "24/24 [==============================] - 2s 78ms/step - loss: 0.0032 - energy_within_threshold: 0.4790\n",
      "Epoch 49/100\n",
      "24/24 [==============================] - 2s 80ms/step - loss: 0.0031 - energy_within_threshold: 0.4896\n",
      "Epoch 50/100\n",
      "24/24 [==============================] - 2s 76ms/step - loss: 0.0034 - energy_within_threshold: 0.4381\n",
      "Epoch 51/100\n",
      "24/24 [==============================] - 2s 79ms/step - loss: 0.0034 - energy_within_threshold: 0.4270\n",
      "Epoch 52/100\n",
      "24/24 [==============================] - 2s 77ms/step - loss: 0.0035 - energy_within_threshold: 0.4208\n",
      "Epoch 53/100\n",
      "24/24 [==============================] - 2s 76ms/step - loss: 0.0030 - energy_within_threshold: 0.4968\n",
      "Epoch 54/100\n",
      "24/24 [==============================] - 2s 76ms/step - loss: 0.0029 - energy_within_threshold: 0.5126\n",
      "Epoch 55/100\n",
      "24/24 [==============================] - 2s 76ms/step - loss: 0.0030 - energy_within_threshold: 0.4756\n",
      "Epoch 56/100\n",
      "24/24 [==============================] - 2s 77ms/step - loss: 0.0030 - energy_within_threshold: 0.4820\n",
      "Epoch 57/100\n",
      "24/24 [==============================] - 2s 75ms/step - loss: 0.0030 - energy_within_threshold: 0.4911\n",
      "Epoch 58/100\n",
      "24/24 [==============================] - 2s 76ms/step - loss: 0.0029 - energy_within_threshold: 0.4991\n",
      "Epoch 59/100\n",
      "24/24 [==============================] - 2s 81ms/step - loss: 0.0029 - energy_within_threshold: 0.5259\n",
      "Epoch 60/100\n",
      "24/24 [==============================] - 2s 76ms/step - loss: 0.0029 - energy_within_threshold: 0.4940\n",
      "Epoch 61/100\n",
      "24/24 [==============================] - 2s 77ms/step - loss: 0.0030 - energy_within_threshold: 0.5125\n",
      "Epoch 62/100\n",
      "24/24 [==============================] - 2s 76ms/step - loss: 0.0032 - energy_within_threshold: 0.4673\n",
      "Epoch 63/100\n",
      "24/24 [==============================] - 2s 77ms/step - loss: 0.0031 - energy_within_threshold: 0.4652\n",
      "Epoch 64/100\n",
      "24/24 [==============================] - 2s 76ms/step - loss: 0.0034 - energy_within_threshold: 0.4993\n",
      "Epoch 65/100\n",
      "24/24 [==============================] - 2s 76ms/step - loss: 0.0030 - energy_within_threshold: 0.4438\n",
      "Epoch 66/100\n",
      "24/24 [==============================] - 2s 76ms/step - loss: 0.0031 - energy_within_threshold: 0.4705\n",
      "Epoch 67/100\n",
      "24/24 [==============================] - 2s 75ms/step - loss: 0.0029 - energy_within_threshold: 0.4992\n",
      "Epoch 68/100\n",
      "24/24 [==============================] - 2s 77ms/step - loss: 0.0028 - energy_within_threshold: 0.4929\n",
      "Epoch 69/100\n",
      "24/24 [==============================] - 2s 76ms/step - loss: 0.0037 - energy_within_threshold: 0.4155\n",
      "Epoch 70/100\n",
      "24/24 [==============================] - 2s 77ms/step - loss: 0.0032 - energy_within_threshold: 0.4296\n",
      "Epoch 71/100\n",
      "24/24 [==============================] - 2s 79ms/step - loss: 0.0029 - energy_within_threshold: 0.5012\n",
      "Epoch 72/100\n",
      "24/24 [==============================] - 2s 78ms/step - loss: 0.0029 - energy_within_threshold: 0.4860\n",
      "Epoch 73/100\n",
      "24/24 [==============================] - 2s 79ms/step - loss: 0.0027 - energy_within_threshold: 0.5318\n",
      "Epoch 74/100\n",
      "24/24 [==============================] - 2s 78ms/step - loss: 0.0028 - energy_within_threshold: 0.4964\n",
      "Epoch 75/100\n",
      "24/24 [==============================] - 2s 77ms/step - loss: 0.0028 - energy_within_threshold: 0.4753\n",
      "Epoch 76/100\n",
      "24/24 [==============================] - 2s 76ms/step - loss: 0.0038 - energy_within_threshold: 0.4314\n",
      "Epoch 77/100\n",
      "24/24 [==============================] - 2s 79ms/step - loss: 0.0029 - energy_within_threshold: 0.4832\n",
      "Epoch 78/100\n",
      "24/24 [==============================] - 2s 76ms/step - loss: 0.0028 - energy_within_threshold: 0.4594\n",
      "Epoch 79/100\n",
      "24/24 [==============================] - 2s 78ms/step - loss: 0.0027 - energy_within_threshold: 0.4700\n",
      "Epoch 80/100\n",
      "24/24 [==============================] - 2s 76ms/step - loss: 0.0040 - energy_within_threshold: 0.4057\n",
      "Epoch 81/100\n",
      "24/24 [==============================] - 2s 77ms/step - loss: 0.0037 - energy_within_threshold: 0.3791\n",
      "Epoch 82/100\n",
      "24/24 [==============================] - 2s 76ms/step - loss: 0.0027 - energy_within_threshold: 0.5141\n",
      "Epoch 83/100\n",
      "24/24 [==============================] - 2s 77ms/step - loss: 0.0026 - energy_within_threshold: 0.5180\n",
      "Epoch 84/100\n",
      "24/24 [==============================] - 2s 76ms/step - loss: 0.0029 - energy_within_threshold: 0.4767\n",
      "Epoch 85/100\n",
      "24/24 [==============================] - 2s 81ms/step - loss: 0.0026 - energy_within_threshold: 0.5103\n",
      "Epoch 86/100\n",
      "24/24 [==============================] - 2s 76ms/step - loss: 0.0025 - energy_within_threshold: 0.5048\n",
      "Epoch 87/100\n",
      "24/24 [==============================] - 2s 77ms/step - loss: 0.0028 - energy_within_threshold: 0.4996\n",
      "Epoch 88/100\n",
      "24/24 [==============================] - 2s 76ms/step - loss: 0.0029 - energy_within_threshold: 0.4477\n",
      "Epoch 89/100\n",
      "24/24 [==============================] - 2s 76ms/step - loss: 0.0024 - energy_within_threshold: 0.5081\n",
      "Epoch 90/100\n",
      "24/24 [==============================] - 2s 76ms/step - loss: 0.0023 - energy_within_threshold: 0.5145\n",
      "Epoch 91/100\n",
      "24/24 [==============================] - 2s 77ms/step - loss: 0.0029 - energy_within_threshold: 0.5100\n",
      "Epoch 92/100\n",
      "24/24 [==============================] - 2s 76ms/step - loss: 0.0022 - energy_within_threshold: 0.5470\n",
      "Epoch 93/100\n",
      "24/24 [==============================] - 2s 77ms/step - loss: 0.0022 - energy_within_threshold: 0.5246\n",
      "Epoch 94/100\n",
      "24/24 [==============================] - 2s 76ms/step - loss: 0.0019 - energy_within_threshold: 0.5477\n",
      "Epoch 95/100\n",
      "24/24 [==============================] - 2s 75ms/step - loss: 0.0025 - energy_within_threshold: 0.4848\n",
      "Epoch 96/100\n",
      "24/24 [==============================] - 2s 76ms/step - loss: 0.0019 - energy_within_threshold: 0.5141\n",
      "Epoch 97/100\n",
      "24/24 [==============================] - 2s 76ms/step - loss: 0.0023 - energy_within_threshold: 0.5268\n",
      "Epoch 98/100\n",
      "24/24 [==============================] - 2s 77ms/step - loss: 0.0022 - energy_within_threshold: 0.4701\n",
      "Epoch 99/100\n",
      "24/24 [==============================] - 2s 78ms/step - loss: 0.0021 - energy_within_threshold: 0.4822\n",
      "Epoch 100/100\n",
      "24/24 [==============================] - 2s 76ms/step - loss: 0.0019 - energy_within_threshold: 0.5085\n"
     ]
    },
    {
     "data": {
      "text/plain": [
       "<megnet.models.megnet.MEGNetModel at 0x1238c6fd0>"
      ]
     },
     "execution_count": 119,
     "metadata": {},
     "output_type": "execute_result"
    }
   ],
   "source": [
    "nfeat_bond = 100\n",
    "r_cutoff = 20  # ключевое\n",
    "gaussian_centers = np.linspace(0, r_cutoff + 1, nfeat_bond)\n",
    "gaussian_width = 0.5\n",
    "graph_converter = CrystalGraph(cutoff=r_cutoff)\n",
    "\n",
    "model = MEGNetModel(graph_converter=graph_converter,\n",
    "                    centers=gaussian_centers,\n",
    "                    width=gaussian_width,\n",
    "                    metrics=energy_within_threshold)\n",
    "\n",
    "model.train(df_public['diff'], df_public['band_gap'], epochs=100)"
   ]
  },
  {
   "cell_type": "code",
   "execution_count": 139,
   "metadata": {},
   "outputs": [
    {
     "name": "stdout",
     "output_type": "stream",
     "text": [
      "Epoch 1/20\n",
      "24/24 [==============================] - 2s 63ms/step - loss: 4.0469e-04 - energy_within_threshold: 0.9424\n",
      "Epoch 2/20\n",
      "24/24 [==============================] - 2s 64ms/step - loss: 3.7199e-04 - energy_within_threshold: 0.9561\n",
      "Epoch 3/20\n",
      "24/24 [==============================] - 1s 60ms/step - loss: 3.7373e-04 - energy_within_threshold: 0.9564\n",
      "Epoch 4/20\n",
      "24/24 [==============================] - 2s 62ms/step - loss: 3.8546e-04 - energy_within_threshold: 0.9538\n",
      "Epoch 5/20\n",
      "24/24 [==============================] - 2s 77ms/step - loss: 4.0289e-04 - energy_within_threshold: 0.9397\n",
      "Epoch 6/20\n",
      "24/24 [==============================] - 2s 73ms/step - loss: 4.0056e-04 - energy_within_threshold: 0.9444\n",
      "Epoch 7/20\n",
      "24/24 [==============================] - 2s 71ms/step - loss: 3.8655e-04 - energy_within_threshold: 0.9490\n",
      "Epoch 8/20\n",
      "24/24 [==============================] - 2s 71ms/step - loss: 4.4836e-04 - energy_within_threshold: 0.9097\n",
      "Epoch 9/20\n",
      "24/24 [==============================] - 2s 75ms/step - loss: 3.8470e-04 - energy_within_threshold: 0.9424\n",
      "Epoch 10/20\n",
      "24/24 [==============================] - 2s 69ms/step - loss: 3.8981e-04 - energy_within_threshold: 0.9503\n",
      "Epoch 11/20\n",
      "24/24 [==============================] - 2s 78ms/step - loss: 3.9020e-04 - energy_within_threshold: 0.9477\n",
      "Epoch 12/20\n",
      "24/24 [==============================] - 2s 78ms/step - loss: 3.7041e-04 - energy_within_threshold: 0.9492\n",
      "Epoch 13/20\n",
      "24/24 [==============================] - 2s 76ms/step - loss: 3.6325e-04 - energy_within_threshold: 0.9585\n",
      "Epoch 14/20\n",
      "24/24 [==============================] - 2s 69ms/step - loss: 6.2144e-04 - energy_within_threshold: 0.8980\n",
      "Epoch 15/20\n",
      "24/24 [==============================] - 2s 71ms/step - loss: 7.3885e-04 - energy_within_threshold: 0.8543\n",
      "Epoch 16/20\n",
      "24/24 [==============================] - 2s 73ms/step - loss: 4.0657e-04 - energy_within_threshold: 0.9353\n",
      "Epoch 17/20\n",
      "24/24 [==============================] - 2s 77ms/step - loss: 9.1675e-04 - energy_within_threshold: 0.7963\n",
      "Epoch 18/20\n",
      "24/24 [==============================] - 2s 71ms/step - loss: 4.5750e-04 - energy_within_threshold: 0.9085\n",
      "Epoch 19/20\n",
      "24/24 [==============================] - 2s 72ms/step - loss: 3.8169e-04 - energy_within_threshold: 0.9561\n",
      "Epoch 20/20\n",
      "24/24 [==============================] - 2s 73ms/step - loss: 3.7322e-04 - energy_within_threshold: 0.9598\n"
     ]
    },
    {
     "data": {
      "text/plain": [
       "<megnet.models.megnet.MEGNetModel at 0x1238c6fd0>"
      ]
     },
     "execution_count": 139,
     "metadata": {},
     "output_type": "execute_result"
    }
   ],
   "source": [
    "model.train(df_public['diff'], df_public['band_gap'], epochs=20)\n",
    "model.save_model('../models/megnet/defects/09598tr_089lb.hdf5')"
   ]
  },
  {
   "cell_type": "markdown",
   "metadata": {
    "pycharm": {
     "name": "#%% md\n"
    }
   },
   "source": []
  },
  {
   "cell_type": "code",
   "execution_count": 145,
   "metadata": {},
   "outputs": [
    {
     "data": {
      "text/plain": [
       "0       0.361837\n",
       "1       1.144807\n",
       "2       1.799694\n",
       "3       1.136510\n",
       "4       0.405438\n",
       "          ...   \n",
       "2962    1.143082\n",
       "2963    0.353465\n",
       "2964    1.143884\n",
       "2965    0.387114\n",
       "2966    0.388613\n",
       "Name: predictions, Length: 2967, dtype: float32"
      ]
     },
     "execution_count": 145,
     "metadata": {},
     "output_type": "execute_result"
    }
   ],
   "source": [
    "model.load_weights('../models/megnet/defects/09598tr_089lb.hdf5')\n",
    "model.predict_structures(df_private['structure_y'])\n",
    "df_private['predictions']"
   ]
  },
  {
   "cell_type": "code",
   "execution_count": 140,
   "metadata": {},
   "outputs": [],
   "source": [
    "df_private['predictions'] = model.predict_structures(df_private['structure_y'])\n",
    "df_private[['_id', 'predictions']].rename({'_id': 'id'}, axis=1).set_index('id').to_csv('megnet.csv')\n",
    "# df_private"
   ]
  }
 ],
 "metadata": {
  "interpreter": {
   "hash": "b01ade15427e96df9e0d7f722d507b3569a7b4d366b2b12a853eaf9f271436bd"
  },
  "kernelspec": {
   "display_name": "Python 3.8.10 ('env': venv)",
   "language": "python",
   "name": "python3"
  },
  "language_info": {
   "codemirror_mode": {
    "name": "ipython",
    "version": 3
   },
   "file_extension": ".py",
   "mimetype": "text/x-python",
   "name": "python",
   "nbconvert_exporter": "python",
   "pygments_lexer": "ipython3",
   "version": "3.8.10"
  },
  "orig_nbformat": 4
 },
 "nbformat": 4,
 "nbformat_minor": 2
}
