{
 "cells": [
  {
   "cell_type": "code",
   "execution_count": 1,
   "metadata": {},
   "outputs": [
    {
     "name": "stderr",
     "output_type": "stream",
     "text": [
      "/Users/tomatoparetogmail.com/idao/env/lib/python3.8/site-packages/pymatgen/core/__init__.py:51: UserWarning: Error loading .pmgrc.yaml: 'NoneType' object is not iterable. You may need to reconfigure your yaml file.\n",
      "  warnings.warn(f\"Error loading .pmgrc.yaml: {ex}. You may need to reconfigure your yaml file.\")\n"
     ]
    },
    {
     "data": {
      "application/vnd.jupyter.widget-view+json": {
       "model_id": "c5e0ee30ca1a499885d99e630e956b53",
       "version_major": 2,
       "version_minor": 0
      },
      "text/plain": []
     },
     "metadata": {},
     "output_type": "display_data"
    }
   ],
   "source": [
    "import numpy as np\n",
    "from tqdm import tqdm\n",
    "from pymatgen.core import Structure, Lattice\n",
    "from pathlib import Path\n",
    "import nglview\n",
    "import sys\n",
    "sys.path.append('../scripts')\n",
    "\n",
    "\n",
    "from utils import read_config, read_structures\n",
    "\n",
    "\n",
    "tqdm.pandas()\n",
    "def show(x): return nglview.show_pymatgen(x)\n"
   ]
  },
  {
   "cell_type": "markdown",
   "metadata": {},
   "source": [
    "### Loading data\n",
    "\n",
    " 1. Config with paths\n",
    " 2. Private data"
   ]
  },
  {
   "cell_type": "code",
   "execution_count": 3,
   "metadata": {},
   "outputs": [
    {
     "name": "stderr",
     "output_type": "stream",
     "text": [
      "2967it [00:19, 154.95it/s]\n"
     ]
    }
   ],
   "source": [
    "config = read_config('../configs/defects_extractor_config.yaml')\n",
    "assert 'data' in config, 'Config is broken'\n",
    "\n",
    "private_path = '..' / Path(config['data']['private']['root'])\n",
    "private = read_structures(private_path)\n"
   ]
  },
  {
   "cell_type": "markdown",
   "metadata": {},
   "source": [
    "### Ideal structure\n",
    "\n",
    "We will denote ideal structure with formula $ \\text{Mo}_{64}\\text{S}_{128}$"
   ]
  },
  {
   "cell_type": "code",
   "execution_count": 6,
   "metadata": {},
   "outputs": [],
   "source": [
    "def construct_ideal():\n",
    "    coords = {\n",
    "        'high': {\n",
    "            'a': np.linspace(0.08333333, 0.95833333, 8, endpoint=True),\n",
    "            'b': np.linspace(0.04166667, 0.91666667, 8, endpoint=True),\n",
    "            'c': 0.355174,\n",
    "            'element': ['S'],\n",
    "            'position': []\n",
    "        },\n",
    "        'mid': {\n",
    "            'a': np.linspace(0.04166667, 0.91666667, 8, endpoint=True),\n",
    "            'b': np.linspace(0.08333333, 0.95833333, 8, endpoint=True),\n",
    "            'c': 0.25,\n",
    "            'element': ['Mo'],\n",
    "            'position': []\n",
    "        },\n",
    "        'low': {\n",
    "            'b': np.linspace(0.04166667, 0.91666667, 8, endpoint=True),\n",
    "            'a': np.linspace(0.08333333, 0.95833333, 8, endpoint=True),\n",
    "            'c': 0.144826,\n",
    "            'element': ['S'],\n",
    "            'position': []\n",
    "        }\n",
    "    }\n",
    "    \n",
    "    elements, positions = [], []\n",
    "    for position in ('high', 'mid', 'low'):\n",
    "        for a in coords[position]['a']:\n",
    "            for b in coords[position]['b']:\n",
    "                coords[position]['position'].append([a, b, coords[position]['c']])\n",
    "        \n",
    "        elements += coords[position]['element'] * 64\n",
    "        positions += coords[position]['position']\n",
    "\n",
    "    lat = Lattice.from_parameters(25.5225256, 25.5225256, 14.879004, 90, 90, 120)\n",
    "    return Structure(lat, elements, positions, coords_are_cartesian=False)"
   ]
  },
  {
   "cell_type": "code",
   "execution_count": 7,
   "metadata": {},
   "outputs": [],
   "source": [
    "ideal = construct_ideal()"
   ]
  },
  {
   "cell_type": "markdown",
   "metadata": {},
   "source": [
    "### Extraction of defects\n",
    "\n",
    "We will call defect each atom, which doesnt correspond to the atom with the same coordinates\n",
    "in ideal structure. In what follows we create new structures from such defects"
   ]
  },
  {
   "cell_type": "code",
   "execution_count": 8,
   "metadata": {},
   "outputs": [],
   "source": [
    "def extract_defects(s: Structure, ideal_set: set) -> Structure:\n",
    "    \"\"\" constructs new structure of defects from ideal and current structure \"\"\"\n",
    "    \n",
    "    ideal_defected_atoms = tuple(ideal_set - set(s)) \n",
    "    defects = list(set(s) - ideal_set)\n",
    "\n",
    "    ideal_defected_coords = np.array([np.around(i.frac_coords, 5) for i in ideal_defected_atoms])\n",
    "    defects_coords = np.array([np.around(i.frac_coords, 5) for i in defects])\n",
    "\n",
    "    for n, i in enumerate(ideal_defected_coords):\n",
    "        if not all(np.isin(i, defects_coords, True)):\n",
    "            defects.append(ideal_defected_atoms[n])\n",
    "\n",
    "    return Structure.from_sites(defects)"
   ]
  },
  {
   "cell_type": "markdown",
   "metadata": {},
   "source": [
    "iterating over all structures and writing output to the path in config file. Overall time is 2-3 hours."
   ]
  },
  {
   "cell_type": "code",
   "execution_count": 11,
   "metadata": {},
   "outputs": [
    {
     "name": "stderr",
     "output_type": "stream",
     "text": [
      "100%|██████████| 2/2 [00:05<00:00,  2.74s/it]\n"
     ]
    }
   ],
   "source": [
    "ideal_set = set(ideal)\n",
    "result = {id_: extract_defects(struct, ideal_set) for id_, struct in tqdm(list(private.items())[:2])}\n",
    "\n",
    "path = '..' / Path(config['data']['private']['defects'])\n",
    "\n",
    "if not path.exists():\n",
    "    path.mkdir()\n",
    "\n",
    "for name, item in result.items():\n",
    "    with open((path / name).with_suffix('.json'), 'w') as f:\n",
    "        f.writelines(item.to_json())"
   ]
  }
 ],
 "metadata": {
  "interpreter": {
   "hash": "58d7da7d739575faea9e4004d7942a260378a1db94971d96a22337df626188f3"
  },
  "kernelspec": {
   "display_name": "Python 3.8.10 ('env': venv)",
   "language": "python",
   "name": "python3"
  },
  "language_info": {
   "codemirror_mode": {
    "name": "ipython",
    "version": 3
   },
   "file_extension": ".py",
   "mimetype": "text/x-python",
   "name": "python",
   "nbconvert_exporter": "python",
   "pygments_lexer": "ipython3",
   "version": "3.8.10"
  },
  "orig_nbformat": 4
 },
 "nbformat": 4,
 "nbformat_minor": 2
}
