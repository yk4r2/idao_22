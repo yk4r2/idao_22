{
 "cells": [
  {
   "cell_type": "markdown",
   "metadata": {},
   "source": [
    "**Purpose of the notebook**: to train megnet on defects and\n",
    "  1. Save weights for the second track\n",
    "  2. Save predictions for boosting algorithm"
   ]
  },
  {
   "cell_type": "code",
   "execution_count": 1,
   "metadata": {},
   "outputs": [
    {
     "name": "stderr",
     "output_type": "stream",
     "text": [
      "/Users/tomatoparetogmail.com/Desktop/Github/idao_22/env/lib/python3.8/site-packages/pymatgen/core/__init__.py:49: UserWarning: Error loading .pmgrc.yaml: 'NoneType' object is not iterable. You may need to reconfigure your yaml file.\n",
      "  warnings.warn(f\"Error loading .pmgrc.yaml: {ex}. You may need to reconfigure your yaml file.\")\n"
     ]
    },
    {
     "data": {
      "application/vnd.jupyter.widget-view+json": {
       "model_id": "62d17dcc11cf4385bfc14dd5008f7da4",
       "version_major": 2,
       "version_minor": 0
      },
      "text/plain": []
     },
     "metadata": {},
     "output_type": "display_data"
    }
   ],
   "source": [
    "import sys\n",
    "sys.path.append('..')\n",
    "\n",
    "import numpy as np\n",
    "import pandas as pd\n",
    "import tensorflow as tf\n",
    "from megnet.models import MEGNetModel\n",
    "from megnet.data.crystal import CrystalGraph\n",
    "from scripts.utils import read_json_structures, RootPath\n",
    "from sklearn.model_selection import train_test_split"
   ]
  },
  {
   "cell_type": "markdown",
   "metadata": {},
   "source": [
    "Loading defects of the structures"
   ]
  },
  {
   "cell_type": "code",
   "execution_count": 2,
   "metadata": {},
   "outputs": [
    {
     "name": "stderr",
     "output_type": "stream",
     "text": [
      "2966it [00:01, 1685.05it/s]\n",
      "2967it [00:01, 1773.85it/s]\n"
     ]
    }
   ],
   "source": [
    "public_path = RootPath('data/train/defects/pymatgen', must_exist=True)\n",
    "private_path = RootPath('data/eval/defects/pymatgen', must_exist=True)\n",
    "targets_path = RootPath('data/dichalcogenides_public/targets.csv', must_exist=True)\n",
    "\n",
    "df_public = read_json_structures(public_path).merge(\n",
    "    pd.read_csv(targets_path), on=['_id']).rename({'structure': 'defects'}, axis=1)\n",
    "df_private = read_json_structures(private_path).rename({'structure': 'defects'}, axis=1)\n"
   ]
  },
  {
   "cell_type": "markdown",
   "metadata": {},
   "source": [
    "preparations for training"
   ]
  },
  {
   "cell_type": "code",
   "execution_count": 23,
   "metadata": {},
   "outputs": [],
   "source": [
    "def energy_within_threshold(prediction, target):\n",
    "    success = tf.math.count_nonzero(tf.math.abs(target - prediction) < 0.02)\n",
    "    return success / tf.cast(tf.size(target), tf.int64)\n",
    "\n",
    "\n",
    "X_train, X_test, y_train, y_test = train_test_split(df_public['defects'],\n",
    "                                                    df_public['band_gap'],\n",
    "                                                    test_size=0.2, random_state=666)"
   ]
  },
  {
   "cell_type": "markdown",
   "metadata": {},
   "source": [
    "### Training process\n",
    "\n",
    "Note that we choose *r_cutoff* to equal 20, because defects are usually represented by isolated\n",
    "atoms, which could be anywhere on the structure space. We also select 15 blocks of megnet with \n",
    "200 dimensional graph representation. "
   ]
  },
  {
   "cell_type": "code",
   "execution_count": null,
   "metadata": {},
   "outputs": [],
   "source": [
    "nfeat_bond = 200\n",
    "r_cutoff = 20  # very important\n",
    "gaussian_centers = np.linspace(0, r_cutoff + 1, nfeat_bond)\n",
    "gaussian_width = 0.5\n",
    "graph_converter = CrystalGraph(cutoff=r_cutoff)\n",
    "\n",
    "model = MEGNetModel(graph_converter=graph_converter,\n",
    "                    centers=gaussian_centers,\n",
    "                    width=gaussian_width,\n",
    "                    npass=2,\n",
    "                    nblocks=15,\n",
    "                    metrics=energy_within_threshold)\n",
    "\n",
    "model.train(X_train, y_train, validation_structures=X_test, validation_targets=y_test, epochs=1500)"
   ]
  },
  {
   "cell_type": "markdown",
   "metadata": {},
   "source": [
    "after training we get weights and megnet predictions and save them for further usage:"
   ]
  },
  {
   "cell_type": "code",
   "execution_count": 141,
   "metadata": {},
   "outputs": [],
   "source": [
    "weights_name = 'megnet_on_defects.hdf5'\n",
    "_save_to_path = RootPath(f'models/megnet/defects/{weights_name}', must_exist=True)\n",
    "\n",
    "model.save_model(_save_to_path)\n",
    "model.load_weights(_save_to_path)"
   ]
  },
  {
   "cell_type": "markdown",
   "metadata": {},
   "source": [
    "predictions:"
   ]
  },
  {
   "cell_type": "code",
   "execution_count": null,
   "metadata": {},
   "outputs": [],
   "source": [
    "predictions_name = 'megnet_public_predictions.csv'\n",
    "_save_to_path = RootPath(f'predictions/{predictions_name}')\n",
    "\n",
    "df_public['predictions'] = model.predict_structures(df_public['defects'])\n",
    "df_public[['_id', 'predictions']].rename(\n",
    "    {'_id': 'id'}, axis=1).set_index('id').to_csv(_save_to_path)\n"
   ]
  },
  {
   "cell_type": "code",
   "execution_count": null,
   "metadata": {},
   "outputs": [],
   "source": [
    "predictions_name = 'megnet_private_predictions.csv'\n",
    "_save_to_path = RootPath(f'predictions/{predictions_name}')\n",
    "\n",
    "df_private['predictions'] = model.predict_structures(df_private['defects'])\n",
    "df_private[['_id', 'predictions']].rename(\n",
    "    {'_id': 'id'}, axis=1).set_index('id').to_csv(_save_to_path)\n"
   ]
  }
 ],
 "metadata": {
  "interpreter": {
   "hash": "b01ade15427e96df9e0d7f722d507b3569a7b4d366b2b12a853eaf9f271436bd"
  },
  "kernelspec": {
   "display_name": "Python 3.8.10 ('env': venv)",
   "language": "python",
   "name": "python3"
  },
  "language_info": {
   "codemirror_mode": {
    "name": "ipython",
    "version": 3
   },
   "file_extension": ".py",
   "mimetype": "text/x-python",
   "name": "python",
   "nbconvert_exporter": "python",
   "pygments_lexer": "ipython3",
   "version": "3.8.10"
  },
  "orig_nbformat": 4
 },
 "nbformat": 4,
 "nbformat_minor": 2
}
